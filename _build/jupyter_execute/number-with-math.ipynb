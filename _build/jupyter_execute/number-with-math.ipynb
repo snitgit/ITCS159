{
 "cells": [
  {
   "cell_type": "markdown",
   "id": "656b4532",
   "metadata": {},
   "source": [
    "# Python Data Types"
   ]
  },
  {
   "cell_type": "markdown",
   "id": "3e2a4471",
   "metadata": {},
   "source": [
    "In programming we classify data as types for variables. \\\n",
    "__Variables can store data of different types__, and different types can do different things.\\\n",
    "Python has the following data types __built-in__ by default, in these categories:"
   ]
  },
  {
   "cell_type": "markdown",
   "id": "65a46551",
   "metadata": {},
   "source": [
    "        Text Type:\tstr \n",
    "    Numeric Types:\tint, float, complex \n",
    "    Boolean Type:\tbool\n",
    "    Binary Types:\tbytes, bytearray, memoryview\n",
    "    \n",
    "    Sequence Types:\tlist, tuple, range \n",
    "    Mapping Type:\tdict\n",
    "    Set Types:\t    set, frozenset\n",
    "    None Type:\t    NoneType"
   ]
  },
  {
   "cell_type": "markdown",
   "id": "235d3034",
   "metadata": {},
   "source": [
    "Getting the Data Type\\\n",
    "You can get the data type of any object by using the __type()__ function:"
   ]
  },
  {
   "cell_type": "markdown",
   "id": "3f327771",
   "metadata": {},
   "source": [
    "Example\\\n",
    "Print the data type of the variable e:"
   ]
  },
  {
   "cell_type": "code",
   "execution_count": 1,
   "id": "66cd514c",
   "metadata": {},
   "outputs": [
    {
     "name": "stdout",
     "output_type": "stream",
     "text": [
      "<class 'float'>\n"
     ]
    }
   ],
   "source": [
    "e = 2.718\n",
    "print( type(e))"
   ]
  },
  {
   "cell_type": "markdown",
   "id": "2b6dc0b2",
   "metadata": {},
   "source": [
    "Setting the Data Type\\\n",
    "In Python, the data type is __set automatically when you assign a value__ to a variable:"
   ]
  },
  {
   "cell_type": "code",
   "execution_count": 2,
   "id": "37adfe25",
   "metadata": {},
   "outputs": [
    {
     "name": "stdout",
     "output_type": "stream",
     "text": [
      "<class 'str'>\n"
     ]
    }
   ],
   "source": [
    "a = 'Hello ITCS-159'; print( type(a))"
   ]
  },
  {
   "cell_type": "code",
   "execution_count": 3,
   "id": "bacf5891",
   "metadata": {},
   "outputs": [
    {
     "name": "stdout",
     "output_type": "stream",
     "text": [
      "<class 'int'>\n"
     ]
    }
   ],
   "source": [
    "a = 20; print( type(a))"
   ]
  },
  {
   "cell_type": "code",
   "execution_count": 4,
   "id": "9bcdcbdf",
   "metadata": {},
   "outputs": [
    {
     "name": "stdout",
     "output_type": "stream",
     "text": [
      "<class 'list'>\n"
     ]
    }
   ],
   "source": [
    "a = [\"apple\", \"banana\", \"cherry\"]; print( type(a))"
   ]
  },
  {
   "cell_type": "code",
   "execution_count": 5,
   "id": "e34f7207",
   "metadata": {},
   "outputs": [
    {
     "name": "stdout",
     "output_type": "stream",
     "text": [
      "<class 'dict'>\n"
     ]
    }
   ],
   "source": [
    "a = {\"name\" : \"John\", \"age\" : 36}; print( type(a))"
   ]
  },
  {
   "cell_type": "code",
   "execution_count": 6,
   "id": "4df17c8e",
   "metadata": {},
   "outputs": [
    {
     "name": "stdout",
     "output_type": "stream",
     "text": [
      "<class 'bool'>\n"
     ]
    }
   ],
   "source": [
    "a = True; print( type(a))"
   ]
  },
  {
   "cell_type": "code",
   "execution_count": 7,
   "id": "2ec0adcb",
   "metadata": {},
   "outputs": [
    {
     "name": "stdout",
     "output_type": "stream",
     "text": [
      "<class 'bytes'>\n"
     ]
    }
   ],
   "source": [
    "a = b\"Hello\"; print( type(a))"
   ]
  },
  {
   "cell_type": "code",
   "execution_count": null,
   "id": "6a0fa983",
   "metadata": {},
   "outputs": [],
   "source": []
  },
  {
   "cell_type": "markdown",
   "id": "413a423b",
   "metadata": {},
   "source": [
    "# Python Number"
   ]
  },
  {
   "cell_type": "markdown",
   "id": "701c0a20",
   "metadata": {},
   "source": [
    "Three numeric types in Python"
   ]
  },
  {
   "cell_type": "markdown",
   "id": "c95c7aeb",
   "metadata": {},
   "source": [
    "- int\n",
    "- float\n",
    "- complex"
   ]
  },
  {
   "cell_type": "markdown",
   "id": "c1c63cac",
   "metadata": {},
   "source": [
    "Variables of numeric types are created automatically when you assign a value to them:"
   ]
  },
  {
   "cell_type": "code",
   "execution_count": 8,
   "id": "94000755",
   "metadata": {},
   "outputs": [],
   "source": [
    "temp = 25    # int\n",
    "e = 2.718  # float\n",
    "z = 1+1j   # complex"
   ]
  },
  {
   "cell_type": "markdown",
   "id": "9054854e",
   "metadata": {},
   "source": [
    "To verify the type of any object in Python, use the __type()__ function:"
   ]
  },
  {
   "cell_type": "markdown",
   "id": "fbf65a95",
   "metadata": {},
   "source": [
    "Example: "
   ]
  },
  {
   "cell_type": "code",
   "execution_count": 9,
   "id": "ea68a3ad",
   "metadata": {},
   "outputs": [
    {
     "name": "stdout",
     "output_type": "stream",
     "text": [
      "<class 'int'>\n",
      "<class 'float'>\n",
      "<class 'complex'>\n"
     ]
    }
   ],
   "source": [
    "print( type(temp))\n",
    "print( type(e))\n",
    "print( type(z))\n",
    "\n"
   ]
  },
  {
   "cell_type": "markdown",
   "id": "5a1ad759",
   "metadata": {},
   "source": [
    "### Int or Integer Number\n",
    "A whole number, positive or negative, without decimals, of unlimited length."
   ]
  },
  {
   "cell_type": "markdown",
   "id": "0bc86f39",
   "metadata": {},
   "source": [
    "#### Example\n",
    "Integers:"
   ]
  },
  {
   "cell_type": "code",
   "execution_count": 10,
   "id": "5559bf84",
   "metadata": {},
   "outputs": [
    {
     "name": "stdout",
     "output_type": "stream",
     "text": [
      "<class 'int'>\n",
      "<class 'int'>\n",
      "<class 'int'>\n"
     ]
    }
   ],
   "source": [
    "a = 9\n",
    "b = 34879283457\n",
    "c = -10000000000\n",
    "\n",
    "print( type(a))\n",
    "print( type(b))\n",
    "print( type(c))\n",
    "\n"
   ]
  },
  {
   "cell_type": "markdown",
   "id": "56d70fc8",
   "metadata": {},
   "source": [
    "### Float\n",
    " __floating point number__ is a number, positive or negative, containing one or more decimals."
   ]
  },
  {
   "cell_type": "markdown",
   "id": "f4a5d67e",
   "metadata": {},
   "source": [
    "Example \\\n",
    "Float:"
   ]
  },
  {
   "cell_type": "code",
   "execution_count": null,
   "id": "76309b0d",
   "metadata": {},
   "outputs": [],
   "source": []
  },
  {
   "cell_type": "code",
   "execution_count": 11,
   "id": "22865762",
   "metadata": {},
   "outputs": [
    {
     "name": "stdout",
     "output_type": "stream",
     "text": [
      "<class 'float'>\n",
      "<class 'float'>\n",
      "<class 'float'>\n"
     ]
    }
   ],
   "source": [
    "e = 2.718\n",
    "pi = 3.14\n",
    "x = -35.59\n",
    "\n",
    "print( type(e))\n",
    "print( type(pi))\n",
    "print( type(x))\n"
   ]
  },
  {
   "cell_type": "markdown",
   "id": "33c487c1",
   "metadata": {},
   "source": [
    "Float can also be scientific numbers with an __e__ to indicate the power of __10__."
   ]
  },
  {
   "cell_type": "markdown",
   "id": "2eb79b63",
   "metadata": {},
   "source": [
    "Example \\\n",
    "Scientific number:"
   ]
  },
  {
   "cell_type": "code",
   "execution_count": 12,
   "id": "e6d6baa5",
   "metadata": {},
   "outputs": [
    {
     "name": "stdout",
     "output_type": "stream",
     "text": [
      "<class 'float'>\n",
      "<class 'float'>\n",
      "<class 'float'>\n"
     ]
    }
   ],
   "source": [
    "a = 15e-1\n",
    "b = 15e2\n",
    "c = -15.16e-2\n",
    "\n",
    "print( type(a))\n",
    "print( type(b))\n",
    "print( type(c))\n"
   ]
  },
  {
   "cell_type": "markdown",
   "id": "2cbaca7c",
   "metadata": {},
   "source": [
    "### Complex \n",
    "Complex numbers are written with a \"j\" as the imaginary part:"
   ]
  },
  {
   "cell_type": "markdown",
   "id": "30d2cb9b",
   "metadata": {},
   "source": [
    "Example\\\n",
    "Complex:"
   ]
  },
  {
   "cell_type": "code",
   "execution_count": 13,
   "id": "7f505796",
   "metadata": {},
   "outputs": [
    {
     "name": "stdout",
     "output_type": "stream",
     "text": [
      "<class 'complex'>\n",
      "<class 'complex'>\n",
      "<class 'complex'>\n"
     ]
    }
   ],
   "source": [
    "a = 1 + 2j\n",
    "b = 1.5j\n",
    "c = -5j\n",
    "\n",
    "print( type(a))\n",
    "print( type(b))\n",
    "print( type(c))"
   ]
  },
  {
   "cell_type": "markdown",
   "id": "77e0d484",
   "metadata": {},
   "source": [
    "### Type Conversion\n",
    "You can convert from one type to another with the __int()__, __float()__, and __complex()__ methods:"
   ]
  },
  {
   "cell_type": "markdown",
   "id": "4d281b9a",
   "metadata": {},
   "source": [
    "Example \\\n",
    "Convert from one type to another:"
   ]
  },
  {
   "cell_type": "code",
   "execution_count": 14,
   "id": "8464cc3f",
   "metadata": {},
   "outputs": [
    {
     "name": "stdout",
     "output_type": "stream",
     "text": [
      "7.0\n",
      "3\n",
      "(7+0j)\n",
      "<class 'float'>\n",
      "<class 'int'>\n",
      "<class 'complex'>\n"
     ]
    }
   ],
   "source": [
    "x = 7    # int\n",
    "y = 3.14  # float\n",
    "z = 4j   # complex\n",
    "\n",
    "#convert from int to float:\n",
    "a = float(x)\n",
    "\n",
    "#convert from float to int:\n",
    "b = int(y)\n",
    "\n",
    "#convert from int to complex:\n",
    "c = complex(x)\n",
    "\n",
    "print(a)\n",
    "print(b)\n",
    "print(c)\n",
    "\n",
    "print(type(a))\n",
    "print(type(b))\n",
    "print(type(c))"
   ]
  },
  {
   "cell_type": "markdown",
   "id": "3bd75f44",
   "metadata": {},
   "source": [
    "### Random Number\n",
    "To make a random number, but Python has a  module called __random__ that can be used to make random numbers:"
   ]
  },
  {
   "cell_type": "code",
   "execution_count": 15,
   "id": "7af590d7",
   "metadata": {},
   "outputs": [
    {
     "name": "stdout",
     "output_type": "stream",
     "text": [
      "9\n"
     ]
    }
   ],
   "source": [
    "import random\n",
    "\n",
    "print(random.randrange(1, 10))"
   ]
  },
  {
   "cell_type": "code",
   "execution_count": null,
   "id": "421d8b28",
   "metadata": {},
   "outputs": [],
   "source": []
  },
  {
   "cell_type": "code",
   "execution_count": null,
   "id": "1d6a6856",
   "metadata": {},
   "outputs": [],
   "source": []
  },
  {
   "cell_type": "markdown",
   "id": "10c50a07",
   "metadata": {},
   "source": [
    "## Python Indentation\n",
    "\n"
   ]
  },
  {
   "cell_type": "code",
   "execution_count": null,
   "id": "26c32ed8",
   "metadata": {},
   "outputs": [],
   "source": []
  },
  {
   "cell_type": "code",
   "execution_count": null,
   "id": "b61aa9cf",
   "metadata": {},
   "outputs": [],
   "source": []
  },
  {
   "cell_type": "code",
   "execution_count": null,
   "id": "1186e6c0",
   "metadata": {},
   "outputs": [],
   "source": []
  },
  {
   "cell_type": "code",
   "execution_count": null,
   "id": "1ad1884d",
   "metadata": {},
   "outputs": [],
   "source": []
  },
  {
   "cell_type": "code",
   "execution_count": null,
   "id": "0f30db2e",
   "metadata": {},
   "outputs": [],
   "source": []
  },
  {
   "cell_type": "code",
   "execution_count": null,
   "id": "a66c5dfb",
   "metadata": {},
   "outputs": [],
   "source": []
  }
 ],
 "metadata": {
  "kernelspec": {
   "display_name": "Python 3 (ipykernel)",
   "language": "python",
   "name": "python3"
  },
  "language_info": {
   "codemirror_mode": {
    "name": "ipython",
    "version": 3
   },
   "file_extension": ".py",
   "mimetype": "text/x-python",
   "name": "python",
   "nbconvert_exporter": "python",
   "pygments_lexer": "ipython3",
   "version": "3.10.4"
  }
 },
 "nbformat": 4,
 "nbformat_minor": 5
}